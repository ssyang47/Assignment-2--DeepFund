{
 "cells": [
  {
   "cell_type": "code",
   "execution_count": 1,
   "id": "0209429e-fee8-4633-8cd3-f1e450e1362b",
   "metadata": {
    "scrolled": true
   },
   "outputs": [
    {
     "name": "stdout",
     "output_type": "stream",
     "text": [
      "loading Roboflow workspace...\n",
      "loading Roboflow project...\n"
     ]
    },
    {
     "name": "stderr",
     "output_type": "stream",
     "text": [
      "Downloading Dataset Version Zip in Thermal-Dogs-and-People-6 to coco:: 100%|██████████| 13409/13409 [00:04<00:00, 3047.32it/s]"
     ]
    },
    {
     "name": "stdout",
     "output_type": "stream",
     "text": [
      "\n"
     ]
    },
    {
     "name": "stderr",
     "output_type": "stream",
     "text": [
      "\n",
      "Extracting Dataset Version Zip to Thermal-Dogs-and-People-6 in coco:: 100%|██████████| 211/211 [00:00<00:00, 2938.47it/s]\n"
     ]
    }
   ],
   "source": [
    "from roboflow import Roboflow\n",
    "\n",
    "rf = Roboflow(api_key=\"mZ6IIA1WPaLKIBOVETP5\")\n",
    "project = rf.workspace(\"joseph-nelson\").project(\"thermal-dogs-and-people\")\n",
    "version = project.version(6)\n",
    "dataset = version.download(\"coco\")"
   ]
  },
  {
   "cell_type": "code",
   "execution_count": 3,
   "id": "dc991a29-0538-463b-bb7a-3433d1ce351b",
   "metadata": {},
   "outputs": [],
   "source": [
    "import torch\n",
    "import torch.nn as nn\n",
    "import torch.optim as optim\n",
    "from torch.utils.data import DataLoader\n",
    "from torchvision import datasets\n",
    "\n",
    "import torchvision.transforms as transforms\n",
    "from torchvision.models import vgg16\n",
    "from torchvision.datasets import CocoDetection\n",
    "import torchvision\n",
    "\n",
    "import torchvision.models as models\n",
    "import numpy as np"
   ]
  },
  {
   "cell_type": "code",
   "execution_count": 4,
   "id": "1d59af72-bed9-43af-85ba-8a15ebf51325",
   "metadata": {},
   "outputs": [
    {
     "name": "stdout",
     "output_type": "stream",
     "text": [
      "loading annotations into memory...\n",
      "Done (t=0.00s)\n",
      "creating index...\n",
      "index created!\n",
      "Dataloader length: 18\n"
     ]
    },
    {
     "name": "stderr",
     "output_type": "stream",
     "text": [
      "/home/seamonxiao/anaconda3/lib/python3.12/site-packages/torch/cuda/__init__.py:129: UserWarning: CUDA initialization: The NVIDIA driver on your system is too old (found version 10000). Please update your GPU driver by downloading and installing a new version from the URL: http://www.nvidia.com/Download/index.aspx Alternatively, go to: https://pytorch.org to install a PyTorch version that has been compiled with your version of the CUDA driver. (Triggered internally at ../c10/cuda/CUDAFunctions.cpp:108.)\n",
      "  return torch._C._cuda_getDeviceCount() > 0\n"
     ]
    }
   ],
   "source": [
    "# load data\n",
    "\n",
    "def collate_fn(batch):\n",
    "    images, targets = zip(*batch)\n",
    "    images = torch.stack([img for img in images], dim=0)\n",
    "    return images, targets\n",
    "\n",
    "# trans data\n",
    "transform = transforms.Compose([\n",
    "    transforms.Resize((224, 224)),  \n",
    "    transforms.ToTensor(),  \n",
    "    transforms.Normalize(mean=[0.485, 0.456, 0.406], std=[0.229, 0.224, 0.225])  \n",
    "])\n",
    "\n",
    "coco_root = './Thermal-Dogs-and-People-6'  \n",
    "train_img_folder = f'{coco_root}/train'  \n",
    "train_ann_file = f'{coco_root}/train/_annotations.coco.json'  \n",
    "\n",
    "# load COCO data\n",
    "train_dataset = datasets.CocoDetection(root=train_img_folder, annFile=train_ann_file, transform=transform)\n",
    "\n",
    "train_loader = DataLoader(\n",
    "    train_dataset, \n",
    "    batch_size=8, \n",
    "    shuffle=True, \n",
    "    num_workers=1, \n",
    "    collate_fn=collate_fn\n",
    ")\n",
    "torch.cuda.empty_cache()\n",
    "\n",
    "print(f'Dataloader length: {len(train_loader)}')  \n",
    "\n",
    "# use GPU\n",
    "device = torch.device('cuda' if torch.cuda.is_available() else 'cpu')\n",
    "\n",
    "criterion = nn.CrossEntropyLoss()\n",
    "\n",
    "\n",
    "def train_model(model, dataloader, criterion, optimizer, num_epochs=10):\n",
    "    for epoch in range(num_epochs):\n",
    "        model.train()\n",
    "        running_loss = 0.0\n",
    "        correct = 0\n",
    "        total = 0\n",
    "\n",
    "        for images, targets in dataloader:\n",
    "            images = images.to(device)\n",
    "                \n",
    "            if all(len(target) > 0 for target in targets):  \n",
    "                labels = torch.tensor([target[0]['category_id'] for target in targets], dtype=torch.long).to(device)\n",
    "            else:\n",
    "                continue\n",
    "\n",
    "            outputs = model(images)\n",
    "            loss = criterion(outputs, labels)\n",
    "\n",
    "            optimizer.zero_grad()\n",
    "            loss.backward()\n",
    "            optimizer.step()\n",
    "\n",
    "            running_loss += loss.item() * images.size(0)\n",
    "            _, predicted = torch.max(outputs, 1)\n",
    "            correct += (predicted == labels).sum().item()\n",
    "            total += labels.size(0)\n",
    "\n",
    "            #print(f'Batch size: {labels.size(0)}, Total: {total}')  \n",
    "\n",
    "        epoch_loss = running_loss / len(dataloader.dataset)\n",
    "\n",
    "        if total > 0:\n",
    "            accuracy = correct / total\n",
    "        else:\n",
    "            accuracy = 0  \n",
    "            #print(\"Warning: No valid data processed in this epoch.\")\n",
    "\n",
    "        print(f'Epoch [{epoch + 1}/{num_epochs}], Loss: {epoch_loss:.4f}, Accuracy: {accuracy:.4f}')\n",
    "    torch.cuda.empty_cache() "
   ]
  },
  {
   "cell_type": "markdown",
   "id": "92899b69-aae9-4b87-ac97-44ac8851b269",
   "metadata": {},
   "source": [
    "# 1. CNN Models"
   ]
  },
  {
   "cell_type": "markdown",
   "id": "144ab086-aa7f-415e-a05e-caa4fdc6de78",
   "metadata": {},
   "source": [
    "## 1. ResNet-34"
   ]
  },
  {
   "cell_type": "code",
   "execution_count": 5,
   "id": "8934829a-906b-4e5a-9fae-87e057666f58",
   "metadata": {},
   "outputs": [
    {
     "name": "stdout",
     "output_type": "stream",
     "text": [
      "Epoch [1/10], Loss: 0.4883, Accuracy: 0.6613\n",
      "Epoch [2/10], Loss: 0.5249, Accuracy: 0.7375\n",
      "Epoch [3/10], Loss: 0.2152, Accuracy: 0.8953\n",
      "Epoch [4/10], Loss: 0.1895, Accuracy: 0.7857\n",
      "Epoch [5/10], Loss: 0.2084, Accuracy: 0.8333\n",
      "Epoch [6/10], Loss: 0.1357, Accuracy: 0.8857\n",
      "Epoch [7/10], Loss: 0.2399, Accuracy: 0.8000\n",
      "Epoch [8/10], Loss: 0.2590, Accuracy: 0.8143\n",
      "Epoch [9/10], Loss: 0.2170, Accuracy: 0.7917\n",
      "Epoch [10/10], Loss: 0.1338, Accuracy: 0.8906\n"
     ]
    }
   ],
   "source": [
    "from torchvision.models import ResNet34_Weights\n",
    "\n",
    "model = torchvision.models.resnet34(weights=ResNet34_Weights.DEFAULT)\n",
    "num_ftrs = model.fc.in_features\n",
    "model.fc = nn.Linear(num_ftrs, 3)  \n",
    "\n",
    "model = model.to(device)\n",
    "\n",
    "\n",
    "optimizer = optim.Adam(model.parameters(), lr=0.001)\n",
    "\n",
    "train_model(model, train_loader, criterion, optimizer, num_epochs=10)"
   ]
  },
  {
   "cell_type": "markdown",
   "id": "373530ed-1bfb-40ee-b0fb-6ee51fa9d78a",
   "metadata": {},
   "source": [
    "## 2. VGG-16"
   ]
  },
  {
   "cell_type": "code",
   "execution_count": 7,
   "id": "c28a15fc-e742-4bf0-9c93-6628e2602074",
   "metadata": {},
   "outputs": [
    {
     "name": "stdout",
     "output_type": "stream",
     "text": [
      "Epoch [1/5], Loss: 5.3564, Accuracy: 0.5513\n",
      "Epoch [2/5], Loss: 0.5753, Accuracy: 0.5286\n",
      "Epoch [3/5], Loss: 0.4223, Accuracy: 0.5143\n",
      "Epoch [4/5], Loss: 0.4793, Accuracy: 0.5106\n",
      "Epoch [5/5], Loss: 0.4093, Accuracy: 0.4750\n"
     ]
    }
   ],
   "source": [
    "model = vgg16(weights='DEFAULT')\n",
    "num_classes = 3\n",
    "model.classifier[6] = nn.Linear(4096, num_classes)  \n",
    "\n",
    "model = model.to(device)\n",
    "\n",
    "'''\n",
    "train_loader = DataLoader(\n",
    "    train_dataset, \n",
    "    batch_size=8, \n",
    "    shuffle=True, \n",
    "    num_workers=0, \n",
    "    collate_fn=collate_fn\n",
    ")\n",
    "'''\n",
    "\n",
    "optimizer = optim.Adam(model.parameters(), lr=0.001)\n",
    "\n",
    "train_model(model, train_loader, criterion, optimizer, num_epochs=5)"
   ]
  },
  {
   "cell_type": "markdown",
   "id": "09ea24b3-f749-43a0-b3a4-04b960617600",
   "metadata": {},
   "source": [
    "## 3. ResNet-50"
   ]
  },
  {
   "cell_type": "code",
   "execution_count": 5,
   "id": "2d42dd8e-bf85-401f-9868-e6cc92f0584f",
   "metadata": {},
   "outputs": [
    {
     "name": "stdout",
     "output_type": "stream",
     "text": [
      "Epoch [1/10], Loss: 0.3220, Accuracy: 0.6667\n",
      "Epoch [2/10], Loss: 0.2614, Accuracy: 0.8488\n",
      "Epoch [3/10], Loss: 0.1915, Accuracy: 0.8333\n",
      "Epoch [4/10], Loss: 0.2065, Accuracy: 0.8488\n",
      "Epoch [5/10], Loss: 0.3077, Accuracy: 0.7571\n",
      "Epoch [6/10], Loss: 0.1751, Accuracy: 0.8889\n",
      "Epoch [7/10], Loss: 0.2094, Accuracy: 0.8148\n",
      "Epoch [8/10], Loss: 0.2612, Accuracy: 0.8191\n",
      "Epoch [9/10], Loss: 0.1018, Accuracy: 0.9000\n",
      "Epoch [10/10], Loss: 0.1002, Accuracy: 0.9359\n"
     ]
    }
   ],
   "source": [
    "model = models.resnet50(weights='DEFAULT')\n",
    "model.fc = torch.nn.Linear(model.fc.in_features, len(train_dataset.coco.getCatIds())) \n",
    "\n",
    "model = model.to(device)\n",
    "\n",
    "\n",
    "optimizer = optim.Adam(model.parameters(), lr=0.001)\n",
    "\n",
    "train_model(model, train_loader, criterion, optimizer, num_epochs=10)"
   ]
  },
  {
   "cell_type": "markdown",
   "id": "e4567f8b-cfd3-422f-8f3d-4e448da3373a",
   "metadata": {},
   "source": [
    "# 2. Hyper-parameters"
   ]
  },
  {
   "cell_type": "code",
   "execution_count": 39,
   "id": "ad3fc0c4-b180-4b67-9280-5d454846d573",
   "metadata": {},
   "outputs": [],
   "source": [
    "model = models.resnet50(weights='DEFAULT')\n",
    "model.fc = torch.nn.Linear(model.fc.in_features, len(train_dataset.coco.getCatIds())) \n",
    "\n",
    "model = model.to(device)\n",
    "\n",
    "\n",
    "optimizer = optim.Adam(model.parameters(), lr=0.001)"
   ]
  },
  {
   "cell_type": "markdown",
   "id": "e2bec6a3-9a88-4a30-9ebe-a2d903807099",
   "metadata": {
    "jp-MarkdownHeadingCollapsed": true
   },
   "source": [
    "## 1. Learning Rate"
   ]
  },
  {
   "cell_type": "markdown",
   "id": "9d51955b-3b67-45d8-ab5c-c259ca02e487",
   "metadata": {},
   "source": [
    "### 1. 0.0001"
   ]
  },
  {
   "cell_type": "code",
   "execution_count": 11,
   "id": "7404b914-9970-4975-aecd-9516639dea8f",
   "metadata": {},
   "outputs": [
    {
     "name": "stdout",
     "output_type": "stream",
     "text": [
      "Epoch [1/10], Loss: 0.6071, Accuracy: 0.5930\n",
      "Epoch [2/10], Loss: 0.3551, Accuracy: 0.8333\n",
      "Epoch [3/10], Loss: 0.2307, Accuracy: 0.9744\n",
      "Epoch [4/10], Loss: 0.1068, Accuracy: 1.0000\n",
      "Epoch [5/10], Loss: 0.0952, Accuracy: 0.9444\n",
      "Epoch [6/10], Loss: 0.0608, Accuracy: 0.9861\n",
      "Epoch [7/10], Loss: 0.0395, Accuracy: 1.0000\n",
      "Epoch [8/10], Loss: 0.0512, Accuracy: 0.9872\n",
      "Epoch [9/10], Loss: 0.0343, Accuracy: 0.9861\n",
      "Epoch [10/10], Loss: 0.0156, Accuracy: 1.0000\n"
     ]
    }
   ],
   "source": [
    "optimizer = optim.Adam(model.parameters(), lr=0.0001)\n",
    "\n",
    "train_model(model, train_loader, criterion, optimizer, num_epochs=10)"
   ]
  },
  {
   "cell_type": "markdown",
   "id": "ff59329d-0fc0-461a-9209-70b8189c2d73",
   "metadata": {},
   "source": [
    "### 2. 0.01"
   ]
  },
  {
   "cell_type": "code",
   "execution_count": 13,
   "id": "04bbf8ee-2c26-481d-9b2f-c6d9c0ebca78",
   "metadata": {},
   "outputs": [
    {
     "name": "stdout",
     "output_type": "stream",
     "text": [
      "Epoch [1/10], Loss: 0.6931, Accuracy: 0.6000\n",
      "Epoch [2/10], Loss: 0.5112, Accuracy: 0.4444\n",
      "Epoch [3/10], Loss: 0.4587, Accuracy: 0.5897\n",
      "Epoch [4/10], Loss: 0.3935, Accuracy: 0.5286\n",
      "Epoch [5/10], Loss: 0.4012, Accuracy: 0.5694\n",
      "Epoch [6/10], Loss: 0.4838, Accuracy: 0.4444\n",
      "Epoch [7/10], Loss: 0.4036, Accuracy: 0.5769\n",
      "Epoch [8/10], Loss: 0.2487, Accuracy: 0.6875\n",
      "Epoch [9/10], Loss: 0.3615, Accuracy: 0.6364\n",
      "Epoch [10/10], Loss: 0.2504, Accuracy: 0.7500\n"
     ]
    }
   ],
   "source": [
    "optimizer = optim.Adam(model.parameters(), lr=0.01)\n",
    "\n",
    "train_model(model, train_loader, criterion, optimizer, num_epochs=10)"
   ]
  },
  {
   "cell_type": "markdown",
   "id": "ce16403b-23d4-4f7b-b8f8-2323a1b585cc",
   "metadata": {
    "jp-MarkdownHeadingCollapsed": true
   },
   "source": [
    "## 2. Optimizer Type"
   ]
  },
  {
   "cell_type": "markdown",
   "id": "aa450171-fe15-48fd-a8ad-3eb6767f82ea",
   "metadata": {},
   "source": [
    "### 1. SGD"
   ]
  },
  {
   "cell_type": "code",
   "execution_count": 9,
   "id": "cb59598d-2252-4da7-87a5-9c7a59bc1af8",
   "metadata": {},
   "outputs": [
    {
     "name": "stdout",
     "output_type": "stream",
     "text": [
      "Epoch [1/10], Loss: 0.4832, Accuracy: 0.3906\n",
      "Epoch [2/10], Loss: 0.4182, Accuracy: 0.5938\n",
      "Epoch [3/10], Loss: 0.3795, Accuracy: 0.7571\n",
      "Epoch [4/10], Loss: 0.3105, Accuracy: 0.8429\n",
      "Epoch [5/10], Loss: 0.2841, Accuracy: 0.8000\n",
      "Epoch [6/10], Loss: 0.2975, Accuracy: 0.7875\n",
      "Epoch [7/10], Loss: 0.2214, Accuracy: 0.8000\n",
      "Epoch [8/10], Loss: 0.2631, Accuracy: 0.7625\n",
      "Epoch [9/10], Loss: 0.2099, Accuracy: 0.8750\n",
      "Epoch [10/10], Loss: 0.1532, Accuracy: 0.9167\n"
     ]
    }
   ],
   "source": [
    "optimizer = optim.SGD(model.parameters(), lr=0.001, momentum=0.9, weight_decay=1e-4)\n",
    "\n",
    "train_model(model, train_loader, criterion, optimizer, num_epochs=10)"
   ]
  },
  {
   "cell_type": "markdown",
   "id": "376b3183-61d3-43e0-95f5-53af68b19de8",
   "metadata": {},
   "source": [
    "### 2. RMSprop"
   ]
  },
  {
   "cell_type": "code",
   "execution_count": 14,
   "id": "dec3769a-1248-46e8-8884-9f7bbf84affe",
   "metadata": {},
   "outputs": [
    {
     "name": "stdout",
     "output_type": "stream",
     "text": [
      "Epoch [1/10], Loss: 0.4899, Accuracy: 0.7051\n",
      "Epoch [2/10], Loss: 0.3179, Accuracy: 0.7625\n",
      "Epoch [3/10], Loss: 0.3646, Accuracy: 0.7361\n",
      "Epoch [4/10], Loss: 0.3084, Accuracy: 0.8023\n",
      "Epoch [5/10], Loss: 0.1533, Accuracy: 0.8857\n",
      "Epoch [6/10], Loss: 0.2373, Accuracy: 0.7812\n",
      "Epoch [7/10], Loss: 0.2125, Accuracy: 0.8281\n",
      "Epoch [8/10], Loss: 0.1490, Accuracy: 0.9167\n",
      "Epoch [9/10], Loss: 0.2296, Accuracy: 0.8333\n",
      "Epoch [10/10], Loss: 0.2754, Accuracy: 0.8023\n"
     ]
    }
   ],
   "source": [
    "optimizer = optim.RMSprop(model.parameters(), lr=0.001, alpha=0.9, eps=1e-8)\n",
    "\n",
    "train_model(model, train_loader, criterion, optimizer, num_epochs=10)"
   ]
  },
  {
   "cell_type": "markdown",
   "id": "8390ca8b-d2a8-44b6-b996-7a6caf9a5c06",
   "metadata": {},
   "source": [
    "## 3. Regularization"
   ]
  },
  {
   "cell_type": "markdown",
   "id": "0d8583fd-5cfc-4f8e-a6de-fa6197cb70a4",
   "metadata": {},
   "source": [
    "### 1. 0.01"
   ]
  },
  {
   "cell_type": "code",
   "execution_count": 21,
   "id": "2f296cf0-ef4f-4763-83e1-dc961aa2c375",
   "metadata": {},
   "outputs": [
    {
     "name": "stdout",
     "output_type": "stream",
     "text": [
      "Epoch [1/10], Loss: 0.3159, Accuracy: 0.6452\n",
      "Epoch [2/10], Loss: 0.2558, Accuracy: 0.8511\n",
      "Epoch [3/10], Loss: 0.2120, Accuracy: 0.9000\n",
      "Epoch [4/10], Loss: 0.2885, Accuracy: 0.7875\n",
      "Epoch [5/10], Loss: 0.3699, Accuracy: 0.7872\n",
      "Epoch [6/10], Loss: 0.2732, Accuracy: 0.7500\n",
      "Epoch [7/10], Loss: 0.2381, Accuracy: 0.8143\n",
      "Epoch [8/10], Loss: 0.3874, Accuracy: 0.6538\n",
      "Epoch [9/10], Loss: 0.2850, Accuracy: 0.7639\n",
      "Epoch [10/10], Loss: 0.2693, Accuracy: 0.7436\n"
     ]
    }
   ],
   "source": [
    "optimizer = optim.Adam(model.parameters(), lr=0.001, weight_decay=0.01)\n",
    "\n",
    "train_model(model, train_loader, criterion, optimizer, num_epochs=10)"
   ]
  },
  {
   "cell_type": "markdown",
   "id": "f66cf721-d33f-4805-8c25-323ff7dccb03",
   "metadata": {},
   "source": [
    "### 2. 0.001"
   ]
  },
  {
   "cell_type": "code",
   "execution_count": 25,
   "id": "3e1170e6-7fd5-4ccc-a9aa-07fe0f7d1cf1",
   "metadata": {},
   "outputs": [
    {
     "name": "stdout",
     "output_type": "stream",
     "text": [
      "Epoch [1/10], Loss: 0.3933, Accuracy: 0.6410\n",
      "Epoch [2/10], Loss: 0.1983, Accuracy: 0.7429\n",
      "Epoch [3/10], Loss: 0.1344, Accuracy: 0.8837\n",
      "Epoch [4/10], Loss: 0.1589, Accuracy: 0.9231\n",
      "Epoch [5/10], Loss: 0.2683, Accuracy: 0.8605\n",
      "Epoch [6/10], Loss: 0.1486, Accuracy: 0.8974\n",
      "Epoch [7/10], Loss: 0.2136, Accuracy: 0.9000\n",
      "Epoch [8/10], Loss: 0.2037, Accuracy: 0.8721\n",
      "Epoch [9/10], Loss: 0.1873, Accuracy: 0.8143\n",
      "Epoch [10/10], Loss: 0.2188, Accuracy: 0.8625\n"
     ]
    }
   ],
   "source": [
    "optimizer = optim.Adam(model.parameters(), lr=0.001, weight_decay=0.001)\n",
    "\n",
    "train_model(model, train_loader, criterion, optimizer, num_epochs=10)"
   ]
  },
  {
   "cell_type": "markdown",
   "id": "c8420b3a-0dd4-472d-ba1b-b8915f70915a",
   "metadata": {},
   "source": [
    "## 4. Batch Size"
   ]
  },
  {
   "cell_type": "markdown",
   "id": "7d7097a5-37ee-4da8-acac-6a2bf7e37e69",
   "metadata": {},
   "source": [
    "### 1. 4"
   ]
  },
  {
   "cell_type": "code",
   "execution_count": 32,
   "id": "2a54d43c-f4e4-4c2b-920b-ef8f7e0b9455",
   "metadata": {},
   "outputs": [
    {
     "name": "stdout",
     "output_type": "stream",
     "text": [
      "Epoch [1/10], Loss: 0.5487, Accuracy: 0.6100\n",
      "Epoch [2/10], Loss: 0.3953, Accuracy: 0.7959\n",
      "Epoch [3/10], Loss: 0.3530, Accuracy: 0.7736\n",
      "Epoch [4/10], Loss: 0.3232, Accuracy: 0.8529\n",
      "Epoch [5/10], Loss: 0.4816, Accuracy: 0.7353\n",
      "Epoch [6/10], Loss: 0.4022, Accuracy: 0.7451\n",
      "Epoch [7/10], Loss: 0.2815, Accuracy: 0.8000\n",
      "Epoch [8/10], Loss: 0.3579, Accuracy: 0.7255\n",
      "Epoch [9/10], Loss: 0.3036, Accuracy: 0.8235\n",
      "Epoch [10/10], Loss: 0.2576, Accuracy: 0.8396\n"
     ]
    }
   ],
   "source": [
    "train_loader = DataLoader(\n",
    "    train_dataset, \n",
    "    batch_size=4, \n",
    "    shuffle=True, \n",
    "    num_workers=1, \n",
    "    collate_fn=collate_fn\n",
    ")\n",
    "\n",
    "train_model(model, train_loader, criterion, optimizer, num_epochs=10)"
   ]
  },
  {
   "cell_type": "markdown",
   "id": "28b528e7-9c7f-468c-aaad-5b3a2c150222",
   "metadata": {},
   "source": [
    "### 2. 16"
   ]
  },
  {
   "cell_type": "code",
   "execution_count": 36,
   "id": "e583716c-5e1c-49d0-a4c5-33c9589a890e",
   "metadata": {},
   "outputs": [
    {
     "name": "stdout",
     "output_type": "stream",
     "text": [
      "Epoch [1/10], Loss: 0.2198, Accuracy: 0.5938\n",
      "Epoch [2/10], Loss: 0.1440, Accuracy: 0.6250\n",
      "Epoch [3/10], Loss: 0.0962, Accuracy: 0.9167\n",
      "Epoch [4/10], Loss: 0.2201, Accuracy: 0.8710\n",
      "Epoch [5/10], Loss: 0.0393, Accuracy: 0.9688\n",
      "Epoch [6/10], Loss: 0.0213, Accuracy: 0.9688\n",
      "Epoch [7/10], Loss: 0.0059, Accuracy: 1.0000\n",
      "Epoch [8/10], Loss: 0.1178, Accuracy: 0.8750\n",
      "Epoch [9/10], Loss: 0.0665, Accuracy: 0.9375\n",
      "Epoch [10/10], Loss: 0.0216, Accuracy: 0.9688\n"
     ]
    }
   ],
   "source": [
    "train_loader = DataLoader(\n",
    "    train_dataset, \n",
    "    batch_size=16, \n",
    "    shuffle=True, \n",
    "    num_workers=1, \n",
    "    collate_fn=collate_fn\n",
    ")\n",
    "\n",
    "train_model(model, train_loader, criterion, optimizer, num_epochs=10)"
   ]
  },
  {
   "cell_type": "markdown",
   "id": "e6b0f64f-03a9-4c2f-ac41-2e560ef4b326",
   "metadata": {},
   "source": [
    "### 3. 32"
   ]
  },
  {
   "cell_type": "code",
   "execution_count": 41,
   "id": "991c70a0-9dab-44be-ac66-3441dacb8a93",
   "metadata": {},
   "outputs": [
    {
     "name": "stdout",
     "output_type": "stream",
     "text": [
      "Epoch [1/10], Loss: 0.0000, Accuracy: 0.0000\n",
      "Epoch [2/10], Loss: 0.0000, Accuracy: 0.0000\n",
      "Epoch [3/10], Loss: 0.2416, Accuracy: 0.3125\n",
      "Epoch [4/10], Loss: 0.0665, Accuracy: 0.8571\n",
      "Epoch [5/10], Loss: 0.0000, Accuracy: 0.0000\n",
      "Epoch [6/10], Loss: 0.0000, Accuracy: 0.0000\n",
      "Epoch [7/10], Loss: 0.0000, Accuracy: 0.0000\n",
      "Epoch [8/10], Loss: 0.0727, Accuracy: 0.5714\n",
      "Epoch [9/10], Loss: 0.0000, Accuracy: 0.0000\n",
      "Epoch [10/10], Loss: 0.0360, Accuracy: 0.9286\n"
     ]
    }
   ],
   "source": [
    "train_loader = DataLoader(\n",
    "    train_dataset, \n",
    "    batch_size=32, \n",
    "    shuffle=True, \n",
    "    num_workers=1, \n",
    "    collate_fn=collate_fn\n",
    ")\n",
    "\n",
    "train_model(model, train_loader, criterion, optimizer, num_epochs=10)"
   ]
  }
 ],
 "metadata": {
  "kernelspec": {
   "display_name": "Python 3 (ipykernel)",
   "language": "python",
   "name": "python3"
  },
  "language_info": {
   "codemirror_mode": {
    "name": "ipython",
    "version": 3
   },
   "file_extension": ".py",
   "mimetype": "text/x-python",
   "name": "python",
   "nbconvert_exporter": "python",
   "pygments_lexer": "ipython3",
   "version": "3.12.4"
  }
 },
 "nbformat": 4,
 "nbformat_minor": 5
}
